{
 "cells": [
  {
   "cell_type": "code",
   "execution_count": 1,
   "id": "7eb3457e",
   "metadata": {},
   "outputs": [],
   "source": [
    "import pipeline\n",
    "import models"
   ]
  },
  {
   "cell_type": "code",
   "execution_count": 2,
   "id": "df32c1ed",
   "metadata": {},
   "outputs": [
    {
     "name": "stdout",
     "output_type": "stream",
     "text": [
      "Epoch 1/5\n",
      "657/657 [==============================] - 3s 4ms/step - loss: 0.4491 - auroc: 0.5985 - aupr: 0.2360 - val_loss: 0.3760 - val_auroc: 0.6981 - val_aupr: 0.3993\n",
      "Epoch 2/5\n",
      "657/657 [==============================] - 2s 4ms/step - loss: 0.3659 - auroc: 0.7202 - aupr: 0.4166 - val_loss: 0.3255 - val_auroc: 0.7759 - val_aupr: 0.4948\n",
      "Epoch 3/5\n",
      "657/657 [==============================] - 2s 4ms/step - loss: 0.3252 - auroc: 0.7890 - aupr: 0.5190 - val_loss: 0.2796 - val_auroc: 0.8487 - val_aupr: 0.6192\n",
      "Epoch 4/5\n",
      "657/657 [==============================] - 2s 4ms/step - loss: 0.2938 - auroc: 0.8364 - aupr: 0.6034 - val_loss: 0.2520 - val_auroc: 0.8896 - val_aupr: 0.6915\n",
      "Epoch 5/5\n",
      "657/657 [==============================] - 2s 4ms/step - loss: 0.2746 - auroc: 0.8606 - aupr: 0.6515 - val_loss: 0.2353 - val_auroc: 0.9069 - val_aupr: 0.7281\n",
      "188/188 - 0s - loss: 0.2405 - auroc: 0.9036 - aupr: 0.7269\n"
     ]
    }
   ],
   "source": [
    "model = models.CNN_ATT()\n",
    "baseline = 'pool4_relu'\n",
    "category = 'heads'\n",
    "variant = '8'\n",
    "trial = 1\n",
    "\n",
    "pipeline.execute_pipeline(baseline, category, variant, trial, model, 5)"
   ]
  }
 ],
 "metadata": {
  "kernelspec": {
   "display_name": "Python 3",
   "language": "python",
   "name": "python3"
  },
  "language_info": {
   "codemirror_mode": {
    "name": "ipython",
    "version": 3
   },
   "file_extension": ".py",
   "mimetype": "text/x-python",
   "name": "python",
   "nbconvert_exporter": "python",
   "pygments_lexer": "ipython3",
   "version": "3.8.5"
  }
 },
 "nbformat": 4,
 "nbformat_minor": 5
}
