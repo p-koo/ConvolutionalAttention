{
 "cells": [
  {
   "cell_type": "code",
   "execution_count": 1,
   "id": "07f16321",
   "metadata": {},
   "outputs": [],
   "source": [
    "import pipeline\n",
    "import models"
   ]
  },
  {
   "cell_type": "code",
   "execution_count": null,
   "id": "3ce4cdbf",
   "metadata": {},
   "outputs": [],
   "source": [
    "baseline = 'pool4_relu'\n",
    "categories = ['heads', 'key_sizes']\n",
    "variants = [[1, 4, 8, 16], [32, 64, 128, 256]]\n",
    "trials = 5\n",
    "\n",
    "b_heads = 8\n",
    "b_key = 64"
   ]
  },
  {
   "cell_type": "code",
   "execution_count": null,
   "id": "65a04874",
   "metadata": {},
   "outputs": [],
   "source": [
    "for i in range(len(categories)):\n",
    "    for j in range(len(variants)):\n",
    "        for k in range(trials):\n",
    "            num_heads = b_heads if categories[i] != 'heads' else variants[i][j]\n",
    "            key_size = b_key if categories[i] != 'key_sizes' else variants[i][j]\n",
    "            model = models.CNN_ATT(heads=num_heads, key_size=key_size)\n",
    "            \n",
    "            pipeline.execute_pipeline(baseline, categories[i], variants[i][j], k, model, 100)"
   ]
  }
 ],
 "metadata": {
  "kernelspec": {
   "display_name": "Python 3",
   "language": "python",
   "name": "python3"
  },
  "language_info": {
   "codemirror_mode": {
    "name": "ipython",
    "version": 3
   },
   "file_extension": ".py",
   "mimetype": "text/x-python",
   "name": "python",
   "nbconvert_exporter": "python",
   "pygments_lexer": "ipython3",
   "version": "3.8.5"
  }
 },
 "nbformat": 4,
 "nbformat_minor": 5
}
