{
 "cells": [
  {
   "cell_type": "code",
   "execution_count": 1,
   "id": "removed-proposition",
   "metadata": {},
   "outputs": [
    {
     "name": "stderr",
     "output_type": "stream",
     "text": [
      "Matplotlib is building the font cache; this may take a moment.\n"
     ]
    }
   ],
   "source": [
    "import tensorflow as tf\n",
    "import numpy as np\n",
    "\n",
    "import h5py, os, io\n",
    "import requests as rq\n",
    "\n",
    "from tfomics import moana, evaluate, impress\n",
    "import matplotlib.pyplot as plt"
   ]
  },
  {
   "cell_type": "code",
   "execution_count": 2,
   "id": "crazy-bermuda",
   "metadata": {},
   "outputs": [
    {
     "name": "stdout",
     "output_type": "stream",
     "text": [
      "[0 1 0 0 0 0 0 0 0 0 0 0]\n"
     ]
    }
   ],
   "source": [
    "data = rq.get('https://www.dropbox.com/s/c3umbo5y13sqcfp/synthetic_dataset.h5?raw=true')\n",
    "data.raise_for_status()\n",
    "\n",
    "with h5py.File(io.BytesIO(data.content), 'r') as dataset:\n",
    "    x_train = np.array(dataset['X_train']).astype(np.float32).transpose([0, 2, 1])\n",
    "    y_train = np.array(dataset['Y_train']).astype(np.float32)\n",
    "    x_valid = np.array(dataset['X_valid']).astype(np.float32).transpose([0, 2, 1])\n",
    "    y_valid = np.array(dataset['Y_valid']).astype(np.int32)\n",
    "    x_test = np.array(dataset['X_test']).astype(np.float32).transpose([0, 2, 1])\n",
    "    y_test = np.array(dataset['Y_test']).astype(np.int32)\n",
    "\n",
    "print(y_test[0])"
   ]
  },
  {
   "cell_type": "code",
   "execution_count": 4,
   "id": "accompanied-subdivision",
   "metadata": {
    "scrolled": false
   },
   "outputs": [
    {
     "name": "stdout",
     "output_type": "stream",
     "text": [
      "188/188 [==============================] - 2s 7ms/step - loss: 0.4172 - auroc: 0.5008 - aupr: 0.1471\n",
      "188/188 [==============================] - 3s 6ms/step - loss: 0.2017 - auroc: 0.9359 - aupr: 0.7976\n",
      "188/188 [==============================] - 2s 7ms/step - loss: 0.1132 - auroc: 0.9805 - aupr: 0.9232\n",
      "188/188 [==============================] - 2s 8ms/step - loss: 0.1183 - auroc: 0.9777 - aupr: 0.9210\n",
      "188/188 [==============================] - 2s 10ms/step - loss: 0.1390 - auroc: 0.9706 - aupr: 0.9093\n",
      "188/188 [==============================] - 3s 13ms/step - loss: 0.1734 - auroc: 0.9619 - aupr: 0.8946\n",
      "[['model-001' 'model-016' 'model-032' 'model-064' 'model-128' 'model-256']\n",
      " ['0.41718465089797974' '0.20166219770908356' '0.11319103837013245'\n",
      "  '0.11834709346294403' '0.1389986127614975' '0.17335207760334015']\n",
      " ['0.5007760524749756' '0.9359455108642578' '0.9805007576942444'\n",
      "  '0.9776749610900879' '0.9706196784973145' '0.961922287940979']\n",
      " ['0.14705726504325867' '0.7975938320159912' '0.9232488870620728'\n",
      "  '0.921018123626709' '0.9092773199081421' '0.894571840763092']\n",
      " ['0.0' '1.0' '0.9375' '0.84375' '0.6328125' '0.4765625']\n",
      " ['1.0' '0.0' '0.03125' '0.09375' '0.09375' '0.125']]\n"
     ]
    }
   ],
   "source": [
    "names = []\n",
    "aupr = []\n",
    "auroc = []\n",
    "losses = []\n",
    "match_fracs = []\n",
    "false_fracs = []\n",
    "\n",
    "category = input('Category: ')\n",
    "models = [i for i in os.walk(os.path.join('results', category))][0][1]\n",
    "for i in range(len(models)):\n",
    "    num_filters = moana.count_meme_entries(os.path.join('motifs', category, models[i] + '.txt'))\n",
    "    motif_dir = os.path.join('results', category, models[i], 'tomtom.tsv')\n",
    "\n",
    "    match_frac, match_any, filter_matches, filter_qvalues, motif_qvalues, hit_counts = evaluate.motif_comparison_synthetic_dataset(motif_dir, num_filters=num_filters)\n",
    "\n",
    "    names.append(models[i])\n",
    "    match_fracs.append(match_frac)\n",
    "    false_fracs.append(match_any - match_frac)\n",
    "\n",
    "    model = tf.keras.models.load_model(h5py.File(os.path.join('models', category, models[i] + '.h5'), 'r'))\n",
    "    results = model.evaluate(x_test, y_test)\n",
    "    losses.append(results[0])\n",
    "    auroc.append(results[1])\n",
    "    aupr.append(results[2])\n",
    "\n",
    "    \"\"\"\n",
    "    index = [type(i) for i in model.layers].index(tf.keras.layers.Activation)\n",
    "    ppms = moana.filter_activations(x_test, model, layer=index, window=20, threshold=0.5)\n",
    "    fig = plt.figure(figsize=(25, 4))\n",
    "    impress.plot_filters(ppms, fig, num_cols=8, names=filter_matches, fontsize=14)\n",
    "    \"\"\"\n",
    "\n",
    "statistics = np.array([names, losses, auroc, aupr, match_fracs, false_fracs])\n",
    "print(statistics)\n",
    "np.save(os.path.join('statistics', f'{category}.npy'), statistics, allow_pickle=True)"
   ]
  }
 ],
 "metadata": {
  "kernelspec": {
   "display_name": "Python 3",
   "language": "python",
   "name": "python3"
  },
  "language_info": {
   "codemirror_mode": {
    "name": "ipython",
    "version": 3
   },
   "file_extension": ".py",
   "mimetype": "text/x-python",
   "name": "python",
   "nbconvert_exporter": "python",
   "pygments_lexer": "ipython3",
   "version": "3.8.7"
  }
 },
 "nbformat": 4,
 "nbformat_minor": 5
}
